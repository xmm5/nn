{
 "cells": [
  {
   "cell_type": "code",
   "execution_count": 1,
   "metadata": {
    "id": "in0PyicHhZDG"
   },
   "outputs": [],
   "source": [
    "import datetime\n",
    "\n",
    "import torch\n",
    "import torch.nn as nn\n",
    "from torch.utils.data import Dataset\n",
    "from torch.nn.utils.rnn import pad_sequence\n",
    "from torch.utils.data import DataLoader"
   ]
  },
  {
   "cell_type": "code",
   "execution_count": 2,
   "metadata": {
    "id": "Os4tVkvmkTIp"
   },
   "outputs": [],
   "source": [
    "data_dir = './data/'\n",
    "train_lang = 'en'"
   ]
  },
  {
   "cell_type": "code",
   "execution_count": 3,
   "metadata": {
    "id": "SI8UCZuy7hTK"
   },
   "outputs": [],
   "source": [
    "import torch\n",
    "from torch.utils.data import Dataset\n",
    "from torch.nn.utils.rnn import pad_sequence\n",
    "\n",
    "class DatasetSeq(Dataset):\n",
    "    def __init__(self, data_dir, train_lang='en'):\n",
    "        #open file\n",
    "        with open(data_dir + train_lang + '.train', 'r') as f:\n",
    "            train = f.read().split('\\n\\n')\n",
    "\n",
    "        # delete extra tag markup\n",
    "        train = [x for x in train if not '_ ' in x]\n",
    "\t    #init vocabs of tokens for encoding {<str> token: <int> id}\n",
    "        self.target_vocab = {} # {p: 1, a: 2, r: 3, pu: 4}\n",
    "        self.word_vocab = {} # {cat: 1, sat: 2, on: 3, mat: 4, '.': 5}\n",
    "        self.char_vocab = {} # {c: 1, a: 2, t: 3, ' ': 4, s: 5}\n",
    "\t    \n",
    "        # Cat sat on mat. -> [1, 2, 3, 4, 5]\n",
    "        # p    a  r  p pu -> [1, 2, 3, 1, 4]\n",
    "        # chars  -> [1, 2, 3, 4, 5, 2, 3, 4]\n",
    "\n",
    "\t    #init encoded sequences lists (processed data)\n",
    "        self.encoded_sequences = []\n",
    "        self.encoded_targets = []\n",
    "        self.encoded_char_sequences = []\n",
    "        # n=1 because first value is padding\n",
    "        n_word = 1\n",
    "        n_target = 1\n",
    "        n_char = 1\n",
    "        for line in train:\n",
    "            sequence = []\n",
    "            target = []\n",
    "            chars = []\n",
    "            for item in line.split('\\n'):\n",
    "                if item != '':\n",
    "                    word, label = item.split(' ')\n",
    "\n",
    "                    if self.word_vocab.get(word) is None:\n",
    "                        self.word_vocab[word] = n_word\n",
    "                        n_word += 1\n",
    "                    if self.target_vocab.get(label) is None:\n",
    "                        self.target_vocab[label] = n_target\n",
    "                        n_target += 1\n",
    "                    for char in word:\n",
    "                        if self.char_vocab.get(char) is None:\n",
    "                            self.char_vocab[char] = n_char\n",
    "                            n_char += 1\n",
    "                    sequence.append(self.word_vocab[word])\n",
    "                    target.append(self.target_vocab[label])\n",
    "                    chars.append([self.char_vocab[char] for char in word])\n",
    "            self.encoded_sequences.append(sequence)\n",
    "            self.encoded_targets.append(target)\n",
    "            self.encoded_char_sequences.append(chars)\n",
    "\n",
    "    def __len__(self):\n",
    "        return len(self.encoded_sequences)\n",
    "\n",
    "    def __getitem__(self, index):\n",
    "        return {\n",
    "            'data': self.encoded_sequences[index], # [1, 2, 3, 4, 6] len=5\n",
    "            'char': self.encoded_char_sequences[index],# [[1,2,3], [4,5], [1,2], [2,6,5,4], []] len=5\n",
    "            'target': self.encoded_targets[index], #  (1)\n",
    "        }"
   ]
  },
  {
   "cell_type": "code",
   "execution_count": 4,
   "metadata": {
    "id": "dhJuBtoz7f43"
   },
   "outputs": [],
   "source": [
    "dataset = DatasetSeq(data_dir)"
   ]
  },
  {
   "cell_type": "code",
   "execution_count": 5,
   "metadata": {
    "id": "0zXXXYP37gFL"
   },
   "outputs": [],
   "source": [
    "#padding\n",
    "# seq1 = [1, 2, 3, 4]\n",
    "# seq2 = [9, 7, 6, 4, 3, 7, 5]\n",
    "# pad seq1 equal seq2\n",
    "# seq1 = [1, 2, 3, 4, 0, 0, 0]\n",
    "# concat(seq1, seq2) [[1, 2, 3, 4, 0, 0, 0],\n",
    "#                     [9, 7, 6, 4, 3, 7, 5]]"
   ]
  },
  {
   "cell_type": "code",
   "execution_count": 6,
   "metadata": {
    "id": "uPJauY4hAqJ6"
   },
   "outputs": [],
   "source": [
    "def collate_fn(batch):\n",
    "    data = []\n",
    "    target = []\n",
    "    for item in batch:\n",
    "        data.append(torch.as_tensor(item['data']))\n",
    "        target.append(torch.as_tensor(item['target']))\n",
    "    # pad different length sequences\n",
    "    data = pad_sequence(data, batch_first=True, padding_value=0)\n",
    "    target = pad_sequence(target, batch_first=True, padding_value=0)\n",
    "\n",
    "    return {'data': data, 'target': target}"
   ]
  },
  {
   "cell_type": "code",
   "execution_count": 7,
   "metadata": {
    "id": "K_PACmDaH8Z7"
   },
   "outputs": [],
   "source": [
    "#hyper params\n",
    "vocab_size = len(dataset.word_vocab) + 1\n",
    "n_classes = len(dataset.target_vocab) + 1\n",
    "n_chars = len(dataset.char_vocab) + 1\n",
    "#TODO try to use other model parameters\n",
    "emb_dim = 256\n",
    "hidden = 256\n",
    "n_epochs = 5 #10\n",
    "cuda_device = -1\n",
    "batch_size = 64\n",
    "device = f'cuda:{cuda_device}' if cuda_device != -1 else 'cpu'"
   ]
  },
  {
   "cell_type": "markdown",
   "metadata": {},
   "source": [
    "### RNN"
   ]
  },
  {
   "cell_type": "code",
   "execution_count": 8,
   "metadata": {
    "id": "WBFZc1qY6HsC"
   },
   "outputs": [],
   "source": [
    "class RNNPredictor(nn.Module):\n",
    "    def __init__(self, vocab_size, emb_dim, hidden_dim, n_classes):\n",
    "        super().__init__()\n",
    "        #TODO try to use other RNN archicetures, f.e. RNN and LSTM\n",
    "        self.word_emb = nn.Embedding(vocab_size, emb_dim)\n",
    "        # batch_first = False: T x B x Vec\n",
    "        # batch_first = True: B x T x Vec\n",
    "        self.rnn = nn.RNN(emb_dim, hidden_dim, batch_first=True) \n",
    "        self.clf = nn.Linear(hidden_dim, n_classes)\n",
    "        self.do = nn.Dropout(0.1)\n",
    "        self.hidden_dim = hidden_dim\n",
    "\n",
    "    def forward(self, x):\n",
    "        emb = self.word_emb(x)\n",
    "        hidden, _ = self.rnn(emb)\n",
    "\n",
    "        return self.clf(self.do(hidden))"
   ]
  },
  {
   "cell_type": "code",
   "execution_count": 9,
   "metadata": {
    "id": "a4gX5zVDIZdu"
   },
   "outputs": [],
   "source": [
    "model = RNNPredictor(vocab_size, emb_dim, hidden, n_classes).to(device)\n",
    "model.train()\n",
    "optim = torch.optim.Adam(model.parameters(), lr=0.001)\n",
    "loss_func = nn.CrossEntropyLoss()"
   ]
  },
  {
   "cell_type": "code",
   "execution_count": 10,
   "metadata": {
    "colab": {
     "base_uri": "https://localhost:8080/"
    },
    "id": "r2f3MATJ8GKb",
    "outputId": "0daf2695-44d8-454e-b70a-d12af578f4ce"
   },
   "outputs": [
    {
     "name": "stdout",
     "output_type": "stream",
     "text": [
      "epoch: 00, step: 000, loss: 2.8783037662506104\n",
      "epoch: 00, step: 100, loss: 0.3520188927650452\n",
      "epoch: 00, step: 200, loss: 0.2416084706783295\n",
      "epoch: 00, step: 300, loss: 0.2162329405546188\n",
      "epoch: 01, step: 000, loss: 0.1988760977983475\n",
      "epoch: 01, step: 100, loss: 0.1368701159954071\n",
      "epoch: 01, step: 200, loss: 0.1138945966959000\n",
      "epoch: 01, step: 300, loss: 0.1934471130371094\n",
      "epoch: 02, step: 000, loss: 0.1269728839397430\n",
      "epoch: 02, step: 100, loss: 0.0996958985924721\n",
      "epoch: 02, step: 200, loss: 0.1021485775709152\n",
      "epoch: 02, step: 300, loss: 0.1236945837736130\n",
      "epoch: 03, step: 000, loss: 0.1009382158517838\n",
      "epoch: 03, step: 100, loss: 0.1115887165069580\n",
      "epoch: 03, step: 200, loss: 0.0929358825087547\n",
      "epoch: 03, step: 300, loss: 0.0899294540286064\n",
      "epoch: 04, step: 000, loss: 0.0669453814625740\n",
      "epoch: 04, step: 100, loss: 0.0569904074072838\n",
      "epoch: 04, step: 200, loss: 0.0868021994829178\n",
      "epoch: 04, step: 300, loss: 0.0921812132000923\n",
      "time: 0:02:34.407387\n"
     ]
    }
   ],
   "source": [
    "start = datetime.datetime.now()\n",
    "\n",
    "for epoch in range(n_epochs):\n",
    "    dataloader = DataLoader(dataset, \n",
    "                            batch_size, \n",
    "                            shuffle=True, \n",
    "                            collate_fn=collate_fn,\n",
    "                            drop_last = True,\n",
    "                            )\n",
    "    for i, batch in enumerate(dataloader):\n",
    "        optim.zero_grad()\n",
    "\n",
    "        predict = model(batch['data'].to(device))\n",
    "        loss = loss_func(predict.view(-1, n_classes), batch['target'].to(device).view(-1))\n",
    "        loss.backward()\n",
    "        optim.step()\n",
    "        \n",
    "        if i % 100 == 0:\n",
    "            print(f'epoch: {epoch:02d}, step: {i:03d}, loss: {loss.item():.16f}')\n",
    "   \n",
    "    torch.save(model.state_dict(), f'./data/rnn_chkpt_{epoch}.pth')\n",
    "    \n",
    "    end = datetime.datetime.now() - start\n",
    "\n",
    "print(f'time: {end}')"
   ]
  },
  {
   "cell_type": "code",
   "execution_count": 11,
   "metadata": {
    "colab": {
     "base_uri": "https://localhost:8080/"
    },
    "id": "9CljFAzIMMEW",
    "outputId": "97b7cf5e-00ce-4a3b-ceea-8ba61c3f44f6"
   },
   "outputs": [
    {
     "name": "stdout",
     "output_type": "stream",
     "text": [
      "['PRON', 'VERB', 'ADV', 'ADP', 'DET', 'ADJ', 'NOUN', 'CCONJ', 'VERB', 'PRON']\n",
      "time: 0:00:00.035584\n"
     ]
    }
   ],
   "source": [
    "#example\n",
    "phrase = 'He ran quickly after the red bus and caught it'\n",
    "words = phrase.split(' ')\n",
    "tokens = [dataset.word_vocab[w] for w in words]\n",
    "\n",
    "start = datetime.datetime.now()\n",
    "with torch.no_grad():\n",
    "    model.eval()\n",
    "    predict = model(torch.tensor(tokens).unsqueeze(0).to(device)) # 1 x T x N_classes\n",
    "    labels = torch.argmax(predict, dim=-1).squeeze().cpu().detach().tolist()\n",
    "    end = datetime.datetime.now() - start\n",
    "\n",
    "target_labels = list(dataset.target_vocab.keys())\n",
    "\n",
    "print([target_labels[l-1] for l in labels])\n",
    "print(f'time: {end}')"
   ]
  },
  {
   "cell_type": "markdown",
   "metadata": {},
   "source": [
    "### GRU"
   ]
  },
  {
   "cell_type": "code",
   "execution_count": 12,
   "metadata": {
    "id": "WBFZc1qY6HsC"
   },
   "outputs": [],
   "source": [
    "class GRUPredictor(nn.Module):\n",
    "    def __init__(self, vocab_size, emb_dim, hidden_dim, n_classes):\n",
    "        super().__init__()\n",
    "        #TODO try to use other RNN archicetures, f.e. RNN and LSTM\n",
    "        self.word_emb = nn.Embedding(vocab_size, emb_dim)\n",
    "        # batch_first = False: T x B x Vec\n",
    "        # batch_first = True: B x T x Vec\n",
    "        self.rnn = nn.GRU(emb_dim, hidden_dim, batch_first=True) \n",
    "        self.clf = nn.Linear(hidden_dim, n_classes)\n",
    "        self.do = nn.Dropout(0.1)\n",
    "        self.hidden_dim = hidden_dim\n",
    "\n",
    "    def forward(self, x):\n",
    "        emb = self.word_emb(x)\n",
    "        hidden, _ = self.rnn(emb)\n",
    "\n",
    "        return self.clf(self.do(hidden))"
   ]
  },
  {
   "cell_type": "code",
   "execution_count": 13,
   "metadata": {
    "id": "a4gX5zVDIZdu"
   },
   "outputs": [],
   "source": [
    "model = GRUPredictor(vocab_size, emb_dim, hidden, n_classes).to(device)\n",
    "model.train()\n",
    "optim = torch.optim.Adam(model.parameters(), lr=0.001)\n",
    "loss_func = nn.CrossEntropyLoss()"
   ]
  },
  {
   "cell_type": "code",
   "execution_count": 14,
   "metadata": {
    "colab": {
     "base_uri": "https://localhost:8080/"
    },
    "id": "r2f3MATJ8GKb",
    "outputId": "0daf2695-44d8-454e-b70a-d12af578f4ce"
   },
   "outputs": [
    {
     "name": "stdout",
     "output_type": "stream",
     "text": [
      "epoch: 00, step: 000, loss: 2.9530749320983887\n",
      "epoch: 00, step: 100, loss: 0.3745443522930145\n",
      "epoch: 00, step: 200, loss: 0.2296777069568634\n",
      "epoch: 00, step: 300, loss: 0.1896043270826340\n",
      "epoch: 01, step: 000, loss: 0.1815935224294662\n",
      "epoch: 01, step: 100, loss: 0.1371265947818756\n",
      "epoch: 01, step: 200, loss: 0.1430202573537827\n",
      "epoch: 01, step: 300, loss: 0.1426171660423279\n",
      "epoch: 02, step: 000, loss: 0.1110012009739876\n",
      "epoch: 02, step: 100, loss: 0.1385727524757385\n",
      "epoch: 02, step: 200, loss: 0.1213863268494606\n",
      "epoch: 02, step: 300, loss: 0.0888922661542892\n",
      "epoch: 03, step: 000, loss: 0.1266777813434601\n",
      "epoch: 03, step: 100, loss: 0.0427642539143562\n",
      "epoch: 03, step: 200, loss: 0.1140308678150177\n",
      "epoch: 03, step: 300, loss: 0.0906578674912453\n",
      "epoch: 04, step: 000, loss: 0.0654601976275444\n",
      "epoch: 04, step: 100, loss: 0.0656056106090546\n",
      "epoch: 04, step: 200, loss: 0.0940924882888794\n",
      "epoch: 04, step: 300, loss: 0.0726933404803276\n",
      "time: 0:04:40.834782\n"
     ]
    }
   ],
   "source": [
    "start = datetime.datetime.now()\n",
    "\n",
    "for epoch in range(n_epochs):\n",
    "    dataloader = DataLoader(dataset, \n",
    "                            batch_size, \n",
    "                            shuffle=True, \n",
    "                            collate_fn=collate_fn,\n",
    "                            drop_last = True,\n",
    "                            )\n",
    "    for i, batch in enumerate(dataloader):\n",
    "        optim.zero_grad()\n",
    "\n",
    "        predict = model(batch['data'].to(device))\n",
    "        loss = loss_func(predict.view(-1, n_classes), batch['target'].to(device).view(-1))\n",
    "        loss.backward()\n",
    "        optim.step()\n",
    "        \n",
    "        if i % 100 == 0:\n",
    "            print(f'epoch: {epoch:02d}, step: {i:03d}, loss: {loss.item():.16f}')\n",
    "   \n",
    "    torch.save(model.state_dict(), f'./data/gru_chkpt_{epoch}.pth')\n",
    "    \n",
    "    end = datetime.datetime.now() - start\n",
    "\n",
    "print(f'time: {end}')"
   ]
  },
  {
   "cell_type": "code",
   "execution_count": 15,
   "metadata": {
    "colab": {
     "base_uri": "https://localhost:8080/"
    },
    "id": "9CljFAzIMMEW",
    "outputId": "97b7cf5e-00ce-4a3b-ceea-8ba61c3f44f6"
   },
   "outputs": [
    {
     "name": "stdout",
     "output_type": "stream",
     "text": [
      "['PRON', 'VERB', 'ADV', 'SCONJ', 'DET', 'ADJ', 'NOUN', 'CCONJ', 'VERB', 'PRON']\n",
      "time: 0:00:00.021163\n"
     ]
    }
   ],
   "source": [
    "#example\n",
    "phrase = 'He ran quickly after the red bus and caught it'\n",
    "words = phrase.split(' ')\n",
    "tokens = [dataset.word_vocab[w] for w in words]\n",
    "\n",
    "start = datetime.datetime.now()\n",
    "with torch.no_grad():\n",
    "    model.eval()\n",
    "    predict = model(torch.tensor(tokens).unsqueeze(0).to(device)) # 1 x T x N_classes\n",
    "    labels = torch.argmax(predict, dim=-1).squeeze().cpu().detach().tolist()\n",
    "    end = datetime.datetime.now() - start\n",
    "\n",
    "target_labels = list(dataset.target_vocab.keys())\n",
    "\n",
    "print([target_labels[l-1] for l in labels])\n",
    "print(f'time: {end}')"
   ]
  },
  {
   "cell_type": "markdown",
   "metadata": {},
   "source": [
    "### LSTM"
   ]
  },
  {
   "cell_type": "code",
   "execution_count": 16,
   "metadata": {
    "id": "WBFZc1qY6HsC"
   },
   "outputs": [],
   "source": [
    "class LSTMPredictor(nn.Module):\n",
    "    def __init__(self, vocab_size, emb_dim, hidden_dim, n_classes):\n",
    "        super().__init__()\n",
    "        #TODO try to use other RNN archicetures, f.e. RNN and LSTM\n",
    "        self.word_emb = nn.Embedding(vocab_size, emb_dim)\n",
    "        # batch_first = False: T x B x Vec\n",
    "        # batch_first = True: B x T x Vec\n",
    "        self.rnn = nn.LSTM(emb_dim, hidden_dim, batch_first=True) \n",
    "        self.clf = nn.Linear(hidden_dim, n_classes)\n",
    "        self.do = nn.Dropout(0.1)\n",
    "        self.hidden_dim = hidden_dim\n",
    "\n",
    "    def forward(self, x):\n",
    "        emb = self.word_emb(x)\n",
    "        hidden, _ = self.rnn(emb)\n",
    "\n",
    "        return self.clf(self.do(hidden))    "
   ]
  },
  {
   "cell_type": "code",
   "execution_count": 17,
   "metadata": {
    "id": "a4gX5zVDIZdu"
   },
   "outputs": [],
   "source": [
    "model = LSTMPredictor(vocab_size, emb_dim, hidden, n_classes).to(device)\n",
    "model.train()\n",
    "optim = torch.optim.Adam(model.parameters(), lr=0.001)\n",
    "loss_func = nn.CrossEntropyLoss()"
   ]
  },
  {
   "cell_type": "code",
   "execution_count": 18,
   "metadata": {
    "colab": {
     "base_uri": "https://localhost:8080/"
    },
    "id": "r2f3MATJ8GKb",
    "outputId": "0daf2695-44d8-454e-b70a-d12af578f4ce"
   },
   "outputs": [
    {
     "name": "stdout",
     "output_type": "stream",
     "text": [
      "epoch: 00, step: 000, loss: 2.9133541584014893\n",
      "epoch: 00, step: 100, loss: 0.4188470840454102\n",
      "epoch: 00, step: 200, loss: 0.2069870233535767\n",
      "epoch: 00, step: 300, loss: 0.1259828656911850\n",
      "epoch: 01, step: 000, loss: 0.2121656835079193\n",
      "epoch: 01, step: 100, loss: 0.1377781778573990\n",
      "epoch: 01, step: 200, loss: 0.1373562812805176\n",
      "epoch: 01, step: 300, loss: 0.1905425339937210\n",
      "epoch: 02, step: 000, loss: 0.1031825914978981\n",
      "epoch: 02, step: 100, loss: 0.0835773050785065\n",
      "epoch: 02, step: 200, loss: 0.1040356904268265\n",
      "epoch: 02, step: 300, loss: 0.1029168292880058\n",
      "epoch: 03, step: 000, loss: 0.0933668762445450\n",
      "epoch: 03, step: 100, loss: 0.0724321752786636\n",
      "epoch: 03, step: 200, loss: 0.0848787724971771\n",
      "epoch: 03, step: 300, loss: 0.0636043921113014\n",
      "epoch: 04, step: 000, loss: 0.0543968081474304\n",
      "epoch: 04, step: 100, loss: 0.0681346356868744\n",
      "epoch: 04, step: 200, loss: 0.0870344415307045\n",
      "epoch: 04, step: 300, loss: 0.0513709969818592\n",
      "time: 0:05:34.413929\n"
     ]
    }
   ],
   "source": [
    "start = datetime.datetime.now()\n",
    "\n",
    "for epoch in range(n_epochs):\n",
    "    dataloader = DataLoader(dataset, \n",
    "                            batch_size, \n",
    "                            shuffle=True, \n",
    "                            collate_fn=collate_fn,\n",
    "                            drop_last = True,\n",
    "                            )\n",
    "    for i, batch in enumerate(dataloader):\n",
    "        optim.zero_grad()\n",
    "\n",
    "        predict = model(batch['data'].to(device))\n",
    "        loss = loss_func(predict.view(-1, n_classes), batch['target'].to(device).view(-1))\n",
    "        loss.backward()\n",
    "        optim.step()\n",
    "        \n",
    "        if i % 100 == 0:\n",
    "            print(f'epoch: {epoch:02d}, step: {i:03d}, loss: {loss.item():.16f}')\n",
    "   \n",
    "    torch.save(model.state_dict(), f'./data/lstm_chkpt_{epoch}.pth')\n",
    "    \n",
    "    end = datetime.datetime.now() - start\n",
    "    \n",
    "print(f'time: {end}')"
   ]
  },
  {
   "cell_type": "code",
   "execution_count": 19,
   "metadata": {
    "colab": {
     "base_uri": "https://localhost:8080/"
    },
    "id": "9CljFAzIMMEW",
    "outputId": "97b7cf5e-00ce-4a3b-ceea-8ba61c3f44f6"
   },
   "outputs": [
    {
     "name": "stdout",
     "output_type": "stream",
     "text": [
      "['PRON', 'VERB', 'ADV', 'SCONJ', 'DET', 'ADJ', 'NOUN', 'CCONJ', 'VERB', 'PRON']\n",
      "time: 0:00:00.133802\n"
     ]
    }
   ],
   "source": [
    "#example\n",
    "phrase = 'He ran quickly after the red bus and caught it'\n",
    "words = phrase.split(' ')\n",
    "tokens = [dataset.word_vocab[w] for w in words]\n",
    "\n",
    "start = datetime.datetime.now()\n",
    "with torch.no_grad():\n",
    "    model.eval()\n",
    "    predict = model(torch.tensor(tokens).unsqueeze(0).to(device)) # 1 x T x N_classes\n",
    "    labels = torch.argmax(predict, dim=-1).squeeze().cpu().detach().tolist()\n",
    "    end = datetime.datetime.now() - start\n",
    "\n",
    "target_labels = list(dataset.target_vocab.keys())\n",
    "\n",
    "print([target_labels[l-1] for l in labels])\n",
    "print(f'time: {end}')"
   ]
  },
  {
   "cell_type": "markdown",
   "metadata": {},
   "source": [
    "**Вывод:**\n",
    "\n",
    "Модель GRU оказалась самой оптимальной по качеству, скорости работы и скорости обучения.\n",
    "\n",
    "Количество эпох: 3  \n",
    "Размер бача: 128  \n",
    "\n",
    "| Модель | Время обучения | Время работы | Loss |\n",
    "| - | - | - | - |\n",
    "| RNN | 0:00:57.377293 | 0:00:00.010970 | 0.1060799211263657 |\n",
    "| GRU | 0:02:30.678112 | 0:00:00.010934 | 0.0839845910668373 |\n",
    "| LSTM | 0:02:49.642584 | 0:00:00.013226 | 0.1057852804660797 |\n",
    "\n",
    "Количество эпох: 5  \n",
    "Размер бача: 64  \n",
    "\n",
    "| Модель | Время обучения | Время работы | Loss |\n",
    "| - | - | - | - |\n",
    "| RNN | 0:02:34.407387 | 0:00:00.035584 | 0.0921812132000923 |\n",
    "| GRU | 0:04:40.834782 | 0:00:00.021163 | 0.0726933404803276 |\n",
    "| LSTM | 0:05:34.413929 | 0:00:00.133802 | 0.0513709969818592 |\n"
   ]
  },
  {
   "cell_type": "code",
   "execution_count": null,
   "metadata": {
    "id": "74gggSX58Fe9"
   },
   "outputs": [],
   "source": []
  },
  {
   "cell_type": "markdown",
   "metadata": {
    "id": "-57Jq-CW8NmD"
   },
   "source": []
  }
 ],
 "metadata": {
  "accelerator": "GPU",
  "colab": {
   "provenance": []
  },
  "gpuClass": "standard",
  "kernelspec": {
   "display_name": "Python 3 (ipykernel)",
   "language": "python",
   "name": "python3"
  },
  "language_info": {
   "codemirror_mode": {
    "name": "ipython",
    "version": 3
   },
   "file_extension": ".py",
   "mimetype": "text/x-python",
   "name": "python",
   "nbconvert_exporter": "python",
   "pygments_lexer": "ipython3",
   "version": "3.9.16"
  }
 },
 "nbformat": 4,
 "nbformat_minor": 4
}
